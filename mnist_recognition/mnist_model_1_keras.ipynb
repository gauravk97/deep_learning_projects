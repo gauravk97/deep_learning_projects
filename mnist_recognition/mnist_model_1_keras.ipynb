{
 "cells": [
  {
   "cell_type": "markdown",
   "metadata": {},
   "source": [
    "- simple model using keras frontend, tensorflow backend on python 3"
   ]
  },
  {
   "cell_type": "markdown",
   "metadata": {},
   "source": [
    "### Libraries"
   ]
  },
  {
   "cell_type": "code",
   "execution_count": 3,
   "metadata": {},
   "outputs": [
    {
     "name": "stderr",
     "output_type": "stream",
     "text": [
      "Using TensorFlow backend.\n"
     ]
    }
   ],
   "source": [
    "import numpy as np\n",
    "import pandas as pd\n",
    "from keras.layers import Conv2D, MaxPooling2D, BatchNormalization"
   ]
  },
  {
   "cell_type": "code",
   "execution_count": 4,
   "metadata": {
    "collapsed": true
   },
   "outputs": [],
   "source": [
    "from keras.layers import Input, ELU, Reshape, Concatenate, Activation, Flatten, Dense, Dropout\n",
    "from keras.models import Model\n",
    "from keras.losses import categorical_crossentropy\n",
    "from keras.optimizers import Adadelta\n",
    "from keras.callbacks import TensorBoard\n",
    "import keras.backend as K"
   ]
  },
  {
   "cell_type": "markdown",
   "metadata": {},
   "source": [
    "### Data"
   ]
  },
  {
   "cell_type": "code",
   "execution_count": 9,
   "metadata": {},
   "outputs": [
    {
     "data": {
      "text/plain": [
       "(33600, 784)"
      ]
     },
     "execution_count": 9,
     "metadata": {},
     "output_type": "execute_result"
    }
   ],
   "source": [
    "train_input = pd.read_csv('../data/data_train.csv')\n",
    "train_labels = pd.get_dummies(train_input['labels']).as_matrix()\n",
    "del train_input['labels']\n",
    "train_input = train_input.as_matrix()\n",
    "train_input.shape"
   ]
  },
  {
   "cell_type": "code",
   "execution_count": 10,
   "metadata": {},
   "outputs": [
    {
     "data": {
      "text/plain": [
       "(8400, 784)"
      ]
     },
     "execution_count": 10,
     "metadata": {},
     "output_type": "execute_result"
    }
   ],
   "source": [
    "test_input = pd.read_csv(\"../data/data_val.csv\")\n",
    "test_labels = pd.get_dummies(test_input['labels']).as_matrix()\n",
    "del test_input['labels']\n",
    "test_input = test_input.as_matrix()\n",
    "test_input.shape"
   ]
  },
  {
   "cell_type": "markdown",
   "metadata": {},
   "source": [
    "#### Setting the configuration of the model"
   ]
  },
  {
   "cell_type": "code",
   "execution_count": 11,
   "metadata": {
    "collapsed": true
   },
   "outputs": [],
   "source": [
    "num_classes = 10\n",
    "image_height = 28\n",
    "image_width = 28\n",
    "num_channels = 1\n",
    "\n",
    "batch_size = 128\n",
    "epochs = 7"
   ]
  },
  {
   "cell_type": "markdown",
   "metadata": {},
   "source": [
    "## Model"
   ]
  },
  {
   "cell_type": "code",
   "execution_count": 13,
   "metadata": {
    "collapsed": true
   },
   "outputs": [],
   "source": [
    "K.clear_session()"
   ]
  },
  {
   "cell_type": "code",
   "execution_count": 14,
   "metadata": {},
   "outputs": [
    {
     "data": {
      "text/plain": [
       "TensorShape([Dimension(None), Dimension(10)])"
      ]
     },
     "execution_count": 14,
     "metadata": {},
     "output_type": "execute_result"
    }
   ],
   "source": [
    "x = Input(shape=(image_height*image_width,), name='input')\n",
    "input_reshaped = Reshape((image_height,image_width,num_channels), input_shape=(image_height*image_width,), name='input_reshape')(x)\n",
    "conv1 = Conv2D(name=\"Conv1\", filters=5, kernel_size=(3,3), strides=(1,1), activation=\"relu\")(input_reshaped)\n",
    "conv2 = Conv2D(name=\"Conv2\", filters=10, kernel_size=(5,5), strides=(1,1), activation=\"relu\")(conv1)\n",
    "conv3 = Conv2D(name=\"Conv3\", filters=15, kernel_size=(5,5), strides=(2,2), activation=\"relu\")(conv2)\n",
    "conv4 = Conv2D(name=\"Conv4\", filters=20, kernel_size=(7,7), strides=(2,2), activation=\"relu\")(conv3)\n",
    "convolved_features = Flatten(name=\"Flat1\")(conv4)\n",
    "dense1 = Dense(400, activation=\"softmax\", name=\"Dense1\")(convolved_features)\n",
    "dense2 = Dense(num_classes, activation=\"softmax\", name=\"Dense2\")(dense1)"
   ]
  },
  {
   "cell_type": "code",
   "execution_count": 15,
   "metadata": {},
   "outputs": [
    {
     "name": "stdout",
     "output_type": "stream",
     "text": [
      "_________________________________________________________________\n",
      "Layer (type)                 Output Shape              Param #   \n",
      "=================================================================\n",
      "input (InputLayer)           (None, 784)               0         \n",
      "_________________________________________________________________\n",
      "input_reshape (Reshape)      (None, 28, 28, 1)         0         \n",
      "_________________________________________________________________\n",
      "Conv1 (Conv2D)               (None, 26, 26, 5)         50        \n",
      "_________________________________________________________________\n",
      "Conv2 (Conv2D)               (None, 22, 22, 10)        1260      \n",
      "_________________________________________________________________\n",
      "Conv3 (Conv2D)               (None, 9, 9, 15)          3765      \n",
      "_________________________________________________________________\n",
      "Conv4 (Conv2D)               (None, 2, 2, 20)          14720     \n",
      "_________________________________________________________________\n",
      "Flat1 (Flatten)              (None, 80)                0         \n",
      "_________________________________________________________________\n",
      "Dense1 (Dense)               (None, 400)               32400     \n",
      "_________________________________________________________________\n",
      "Dense2 (Dense)               (None, 10)                4010      \n",
      "=================================================================\n",
      "Total params: 56,205\n",
      "Trainable params: 56,205\n",
      "Non-trainable params: 0\n",
      "_________________________________________________________________\n"
     ]
    }
   ],
   "source": [
    "model = Model(inputs=x, outputs=dense2)\n",
    "model.summary()"
   ]
  },
  {
   "cell_type": "code",
   "execution_count": 61,
   "metadata": {
    "collapsed": true
   },
   "outputs": [],
   "source": [
    "tensorboard = TensorBoard(log_dir='./tensorboard_logs/', histogram_freq=1, batch_size=batch_size, write_graph=True, \n",
    "                          write_grads=False, write_images=False, embeddings_freq=0, \n",
    "                          embeddings_layer_names=None, embeddings_metadata=None)"
   ]
  },
  {
   "cell_type": "code",
   "execution_count": 62,
   "metadata": {},
   "outputs": [
    {
     "name": "stdout",
     "output_type": "stream",
     "text": [
      "Train on 23520 samples, validate on 10080 samples\n",
      "Epoch 1/7\n",
      "23520/23520 [==============================] - 69s - loss: 1.0216 - acc: 0.5022 - val_loss: 1.0373 - val_acc: 0.4980\n",
      "Epoch 2/7\n",
      "23520/23520 [==============================] - 68s - loss: 0.9994 - acc: 0.5018 - val_loss: 1.0197 - val_acc: 0.4983\n",
      "Epoch 3/7\n",
      "23520/23520 [==============================] - 67s - loss: 0.9803 - acc: 0.5035 - val_loss: 1.0062 - val_acc: 0.4998\n",
      "Epoch 4/7\n",
      "23520/23520 [==============================] - 63s - loss: 0.9652 - acc: 0.5038 - val_loss: 0.9939 - val_acc: 0.5046\n",
      "Epoch 5/7\n",
      "23520/23520 [==============================] - 62s - loss: 0.9523 - acc: 0.5071 - val_loss: 0.9820 - val_acc: 0.4959\n",
      "Epoch 6/7\n",
      "23520/23520 [==============================] - 61s - loss: 0.9417 - acc: 0.5054 - val_loss: 0.9765 - val_acc: 0.5076\n",
      "Epoch 7/7\n",
      "23520/23520 [==============================] - 64s - loss: 0.9301 - acc: 0.5071 - val_loss: 0.9670 - val_acc: 0.5029\n",
      "Test loss: 0.957139338312\n",
      "Test accuracy: 0.509880952381\n"
     ]
    }
   ],
   "source": [
    "model.compile(loss=categorical_crossentropy,\n",
    "              optimizer=Adadelta(),\n",
    "              metrics=['accuracy'])\n",
    "model.fit(train, labels,batch_size=batch_size,epochs=epochs,\n",
    "          verbose=1,validation_split=0.3, callbacks=[tensorboard])\n",
    "score = model.evaluate(x_test, y_test, verbose=0)\n",
    "print('Test loss:', score[0])\n",
    "print('Test accuracy:', score[1])"
   ]
  }
 ],
 "metadata": {
  "kernelspec": {
   "display_name": "Python 3",
   "language": "python",
   "name": "python3"
  },
  "language_info": {
   "codemirror_mode": {
    "name": "ipython",
    "version": 3
   },
   "file_extension": ".py",
   "mimetype": "text/x-python",
   "name": "python",
   "nbconvert_exporter": "python",
   "pygments_lexer": "ipython3",
   "version": "3.6.1"
  }
 },
 "nbformat": 4,
 "nbformat_minor": 2
}
